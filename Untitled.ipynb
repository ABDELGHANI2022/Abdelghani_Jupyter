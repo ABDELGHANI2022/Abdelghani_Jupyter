{
 "cells": [
  {
   "cell_type": "markdown",
   "id": "8f8d42d6-eaed-4250-b6fd-2040ceefa726",
   "metadata": {},
   "source": [
    "# My Jupyter Notebook on IBM Watson Studio"
   ]
  },
  {
   "cell_type": "markdown",
   "id": "83ea3c46-27d1-49a5-8072-4eff56aa5beb",
   "metadata": {},
   "source": [
    "**Abdelghani HIRECHE**\n",
    "Arts martiaux mixtes"
   ]
  },
  {
   "cell_type": "markdown",
   "id": "3fbbe27f-4887-46f2-99ed-f4fbaa76cf75",
   "metadata": {},
   "source": [
    "*I am interested in data science because :  I enjoy being a part of new technologies and trying out innovative solutions,also Data Science is hailed as the highest-paid job of this century*"
   ]
  },
  {
   "cell_type": "markdown",
   "id": "4addfce2-a319-49db-beed-c0122d25019b",
   "metadata": {},
   "source": [
    "### display of a welcome message"
   ]
  },
  {
   "cell_type": "code",
   "execution_count": 2,
   "id": "74983c81-f2ee-42fa-8fa0-c24dc256a028",
   "metadata": {},
   "outputs": [
    {
     "name": "stdout",
     "output_type": "stream",
     "text": [
      "Welcome evryone\n"
     ]
    }
   ],
   "source": [
    "print(\"Welcome evryone\")"
   ]
  },
  {
   "cell_type": "markdown",
   "id": "2cbf7ac4-74a5-48c6-84d0-f57cbb7ec7bb",
   "metadata": {},
   "source": [
    "\n",
    "\n",
    "\n",
    "-------------------------------------------------\n",
    "![alt text]( data:image/jpeg;base64,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 \"Title\")\n",
    "\n",
    "|   |   |   |   |   |\n",
    "|---|---|---|---|---|\n",
    "|   |   |   |   |   |\n",
    "|   |   |   |   |   |\n",
    "|   |   |   |   |   |"
   ]
  },
  {
   "cell_type": "code",
   "execution_count": null,
   "id": "a17d338b-99b5-4128-ab4e-edf8ac528c85",
   "metadata": {},
   "outputs": [],
   "source": []
  }
 ],
 "metadata": {
  "kernelspec": {
   "display_name": "Python",
   "language": "python",
   "name": "conda-env-python-py"
  },
  "language_info": {
   "codemirror_mode": {
    "name": "ipython",
    "version": 3
   },
   "file_extension": ".py",
   "mimetype": "text/x-python",
   "name": "python",
   "nbconvert_exporter": "python",
   "pygments_lexer": "ipython3",
   "version": "3.7.12"
  }
 },
 "nbformat": 4,
 "nbformat_minor": 5
}
